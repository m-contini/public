{
 "cells": [
  {
   "cell_type": "markdown",
   "metadata": {},
   "source": [
    "# __Spotify API__ - Variables"
   ]
  },
  {
   "cell_type": "code",
   "execution_count": 28,
   "metadata": {},
   "outputs": [
    {
     "name": "stdout",
     "output_type": "stream",
     "text": [
      "Master variables\n",
      "+---------------+----------------------------------+\n",
      "| client_id     | 63f***************************** |\n",
      "+---------------+----------------------------------+\n",
      "| client_secret | e58***************************** |\n",
      "+---------------+----------------------------------+\n",
      "| username      | mar_contini                      |\n",
      "+---------------+----------------------------------+\n",
      "| password      | Ken********                      |\n",
      "+---------------+----------------------------------+\n",
      "| redirect_uri  | http://localhost:8888/callback   |\n",
      "+---------------+----------------------------------+\n",
      "| scope         | user-follow-read                 |\n",
      "+---------------+----------------------------------+\n",
      "| state         | 76f73f6ec63e6620                 |\n",
      "+---------------+----------------------------------+\n",
      "\n",
      "Endpoints\n",
      "+-----------------+-----------------------------------------------------+\n",
      "| auth_endpoint   | https://accounts.spotify.com/authorize              |\n",
      "+-----------------+-----------------------------------------------------+\n",
      "| token_endpoint  | https://accounts.spotify.com/api/token              |\n",
      "+-----------------+-----------------------------------------------------+\n",
      "| login_endpoint  | https://accounts.spotify.com/it/login               |\n",
      "+-----------------+-----------------------------------------------------+\n",
      "| artist_endpoint | https://api.spotify.com/v1/me/following?type=artist |\n",
      "+-----------------+-----------------------------------------------------+\n"
     ]
    }
   ],
   "source": [
    "# Importa librerie necessarie per parsing di vari formati (HTML, XML, JSON), gestione richieste HTTP e manipolazione di dataframes\n",
    "import requests\n",
    "from bs4 import BeautifulSoup\n",
    "\n",
    "import pandas as pd\n",
    "import base64\n",
    "import json\n",
    "from tabulate import tabulate\n",
    "\n",
    "import secrets\n",
    "import urllib.parse\n",
    "\n",
    "import os\n",
    "from dotenv import load_dotenv\n",
    "\n",
    "load_dotenv()\n",
    "\n",
    "client_id = os.getenv('SPOTIFY_CLIENT_ID')\n",
    "client_secret = os.getenv('SPOTIFY_CLIENT_SECRET')\n",
    "username = os.getenv('USERNAME')\n",
    "password = os.getenv('PASSWORD')\n",
    "redirect_uri = os.getenv('REDIRECT_URI')\n",
    "scope = os.getenv('SCOPE')\n",
    "\n",
    "auth_endpoint = os.getenv('AUTH_ENDPOINT')\n",
    "token_endpoint = os.getenv('TOKEN_ENDPOINT')\n",
    "login_endpoint = os.getenv('LOGIN_ENDPOINT')\n",
    "artist_endpoint = os.getenv('ARTIST_ENDPOINT')\n",
    "\n",
    "state = secrets.token_hex(8)\n",
    "\n",
    "master_vars_table = {\n",
    "    'client_id': client_id[0:3] + '*' * (len(client_id) - 3),\n",
    "    'client_secret': client_secret[0:3] + '*' * (len(client_secret) - 3),\n",
    "    'username': username.split('@')[0],\n",
    "    'password': password[0:3] + '*' * (len(password) - 3),\n",
    "    'redirect_uri': redirect_uri,\n",
    "    'scope': scope,\n",
    "    'state': state\n",
    "    }\n",
    "\n",
    "master_vars_table = tabulate(master_vars_table.items(), tablefmt='grid')\n",
    "print('Master variables', master_vars_table, sep='\\n')\n",
    "\n",
    "\n",
    "endpoint_table = {\n",
    "    'auth_endpoint': auth_endpoint,\n",
    "    'token_endpoint': token_endpoint,\n",
    "    'login_endpoint': login_endpoint,\n",
    "    'artist_endpoint': artist_endpoint\n",
    "    }\n",
    "\n",
    "endpoint_table = tabulate(endpoint_table.items(), tablefmt='grid')\n",
    "print('\\nEndpoints', endpoint_table, sep='\\n')\n",
    "\n",
    "assert all([client_id, client_secret, username, password, redirect_uri, scope]), 'Errore: variabili d\\'ambiente non impostate'"
   ]
  },
  {
   "cell_type": "code",
   "execution_count": 3,
   "metadata": {},
   "outputs": [],
   "source": [
    "flag_get_code = 0\n",
    "query_params = {\n",
    "    'response_type': 'code',\n",
    "    'client_id': client_id,\n",
    "    'scope': scope,\n",
    "    'redirect_uri': redirect_uri,\n",
    "    'state': state,\n",
    "    }\n",
    "\n",
    "auth_url = auth_endpoint + '?' + urllib.parse.urlencode(query_params)"
   ]
  },
  {
   "cell_type": "code",
   "execution_count": 4,
   "metadata": {},
   "outputs": [],
   "source": [
    "flag_get_access_token = 0\n",
    "access_token_headers = {\n",
    "    'Authorization': 'Basic ' + base64.b64encode((client_id + ':' + client_secret).encode()).decode(),\n",
    "    'Content-Type': 'application/x-www-form-urlencoded'\n",
    "    }\n",
    "\n",
    "code = ''\n",
    "access_token_payload = {\n",
    "    'grant_type': 'authorization_code',\n",
    "    'code': code,\n",
    "    'redirect_uri': redirect_uri\n",
    "    }\n",
    "\n",
    "get_access_token_response = {}"
   ]
  },
  {
   "cell_type": "code",
   "execution_count": 5,
   "metadata": {},
   "outputs": [],
   "source": [
    "flag_refresh_token = 0\n",
    "refresh_token_headers = {\n",
    "    'Content-Type': 'application/x-www-form-urlencoded',\n",
    "    'Authorization': 'Basic ' + base64.b64encode((client_id + ':' + client_secret).encode()).decode()\n",
    "    }\n",
    "\n",
    "refresh_token = ''\n",
    "refresh_token_payload = {\n",
    "    'grant_type': 'refresh_token',\n",
    "    'refresh_token': refresh_token,\n",
    "}\n",
    "\n",
    "get_refresh_token_response = {}"
   ]
  },
  {
   "cell_type": "markdown",
   "metadata": {},
   "source": [
    "# Authorization\n",
    "\n",
    "The first step is to request authorization from the user so that our app can access to the Spotify resources on the user's behalf.  \n",
    "To do this, our application must build and __send a GET request__ to the `/authorize` endpoint with the following parameters:"
   ]
  },
  {
   "cell_type": "markdown",
   "metadata": {},
   "source": [
    "<table data-encore-id=\"table\" class=\"Table__TableElement-sc-evwssh-0 fPsMQq\"><thead><tr data-encore-id=\"tableRow\" class=\"TableRow__TableRowElement-sc-1kuhzdh-0 hoXXxN\"><th scope=\"col\" class=\"TableHeaderCell__TableHeaderCellElement-sc-16kf5kl-0 gfUuhl encore-text-body-small-bold\" data-encore-id=\"tableHeaderCell\">Query Parameter</th><th scope=\"col\" class=\"TableHeaderCell__TableHeaderCellElement-sc-16kf5kl-0 gfUuhl encore-text-body-small-bold\" data-encore-id=\"tableHeaderCell\">Relevance</th><th scope=\"col\" class=\"TableHeaderCell__TableHeaderCellElement-sc-16kf5kl-0 gfUuhl encore-text-body-small-bold\" data-encore-id=\"tableHeaderCell\">Value</th></tr></thead><tbody><tr data-encore-id=\"tableRow\" class=\"TableRow__TableRowElement-sc-1kuhzdh-0 hoXXxN\"><td class=\"TableCell__TableCellElement-sc-1nn7cfv-0 gOsDpy encore-text-body-small\" data-encore-id=\"tableCell\"><span data-encore-id=\"type\" class=\"Type__TypeElement-sc-goli3j-0 kqItdM\">client_id</span></td><td class=\"TableCell__TableCellElement-sc-1nn7cfv-0 gOsDpy encore-text-body-small\" data-encore-id=\"tableCell\"><span data-encore-id=\"type\" class=\"Type__TypeElement-sc-goli3j-0 kqItdM\"><em>Required</em></span></td><td class=\"TableCell__TableCellElement-sc-1nn7cfv-0 gOsDpy encore-text-body-small\" data-encore-id=\"tableCell\"><span data-encore-id=\"type\" class=\"Type__TypeElement-sc-goli3j-0 kqItdM\">The Client ID generated after registering your application.</span></td></tr><tr data-encore-id=\"tableRow\" class=\"TableRow__TableRowElement-sc-1kuhzdh-0 hoXXxN\"><td class=\"TableCell__TableCellElement-sc-1nn7cfv-0 gOsDpy encore-text-body-small\" data-encore-id=\"tableCell\"><span data-encore-id=\"type\" class=\"Type__TypeElement-sc-goli3j-0 kqItdM\">response_type</span></td><td class=\"TableCell__TableCellElement-sc-1nn7cfv-0 gOsDpy encore-text-body-small\" data-encore-id=\"tableCell\"><span data-encore-id=\"type\" class=\"Type__TypeElement-sc-goli3j-0 kqItdM\"><em>Required</em></span></td><td class=\"TableCell__TableCellElement-sc-1nn7cfv-0 gOsDpy encore-text-body-small\" data-encore-id=\"tableCell\"><span data-encore-id=\"type\" class=\"Type__TypeElement-sc-goli3j-0 kqItdM\">Set to <code>code</code>.</span></td></tr><tr data-encore-id=\"tableRow\" class=\"TableRow__TableRowElement-sc-1kuhzdh-0 hoXXxN\"><td class=\"TableCell__TableCellElement-sc-1nn7cfv-0 gOsDpy encore-text-body-small\" data-encore-id=\"tableCell\"><span data-encore-id=\"type\" class=\"Type__TypeElement-sc-goli3j-0 kqItdM\">redirect_uri</span></td><td class=\"TableCell__TableCellElement-sc-1nn7cfv-0 gOsDpy encore-text-body-small\" data-encore-id=\"tableCell\"><span data-encore-id=\"type\" class=\"Type__TypeElement-sc-goli3j-0 kqItdM\"><em>Required</em></span></td><td class=\"TableCell__TableCellElement-sc-1nn7cfv-0 gOsDpy encore-text-body-small\" data-encore-id=\"tableCell\"><span data-encore-id=\"type\" class=\"Type__TypeElement-sc-goli3j-0 kqItdM\">The URI to redirect to after the user grants or denies permission. This URI needs to have been entered in the Redirect URI allowlist that you specified when you registered your application (See the <a data-encore-id=\"textLink\" class=\"Link-sc-k8gsk-0 hkKYOq\" href=\"https://developer.spotify.com/documentation/web-api/concepts/apps\">app guide</a>). The value of <code>redirect_uri</code> here must exactly match one of the values you entered when you registered your application, including upper or lowercase, terminating slashes, and such.</span></td></tr><tr data-encore-id=\"tableRow\" class=\"TableRow__TableRowElement-sc-1kuhzdh-0 hoXXxN\"><td class=\"TableCell__TableCellElement-sc-1nn7cfv-0 gOsDpy encore-text-body-small\" data-encore-id=\"tableCell\"><span data-encore-id=\"type\" class=\"Type__TypeElement-sc-goli3j-0 kqItdM\">state</span></td><td class=\"TableCell__TableCellElement-sc-1nn7cfv-0 gOsDpy encore-text-body-small\" data-encore-id=\"tableCell\"><span data-encore-id=\"type\" class=\"Type__TypeElement-sc-goli3j-0 kqItdM\"><em>Optional, but strongly recommended</em></span></td><td class=\"TableCell__TableCellElement-sc-1nn7cfv-0 gOsDpy encore-text-body-small\" data-encore-id=\"tableCell\"><span data-encore-id=\"type\" class=\"Type__TypeElement-sc-goli3j-0 kqItdM\">This provides protection against attacks such as cross-site request forgery. See <a data-encore-id=\"textLink\" class=\"Link-sc-k8gsk-0 hkKYOq\" href=\"https://datatracker.ietf.org/doc/html/rfc6749#section-4.1\">RFC-6749</a>.</span></td></tr><tr data-encore-id=\"tableRow\" class=\"TableRow__TableRowElement-sc-1kuhzdh-0 hoXXxN\"><td class=\"TableCell__TableCellElement-sc-1nn7cfv-0 gOsDpy encore-text-body-small\" data-encore-id=\"tableCell\"><span data-encore-id=\"type\" class=\"Type__TypeElement-sc-goli3j-0 kqItdM\">scope</span></td><td class=\"TableCell__TableCellElement-sc-1nn7cfv-0 gOsDpy encore-text-body-small\" data-encore-id=\"tableCell\"><span data-encore-id=\"type\" class=\"Type__TypeElement-sc-goli3j-0 kqItdM\"><em>Optional</em></span></td><td class=\"TableCell__TableCellElement-sc-1nn7cfv-0 gOsDpy encore-text-body-small\" data-encore-id=\"tableCell\"><span data-encore-id=\"type\" class=\"Type__TypeElement-sc-goli3j-0 kqItdM\">A space-separated list of <a data-encore-id=\"textLink\" class=\"Link-sc-k8gsk-0 hkKYOq\" href=\"https://developer.spotify.com/documentation/web-api/concepts/scopes\">scopes</a>.If no scopes are specified, authorization will be granted only to access publicly available information: that is, only information normally visible in the Spotify desktop, web, and mobile players.</span></td></tr><tr data-encore-id=\"tableRow\" class=\"TableRow__TableRowElement-sc-1kuhzdh-0 hoXXxN\"><td class=\"TableCell__TableCellElement-sc-1nn7cfv-0 gOsDpy encore-text-body-small\" data-encore-id=\"tableCell\"><span data-encore-id=\"type\" class=\"Type__TypeElement-sc-goli3j-0 kqItdM\">show_dialog</span></td><td class=\"TableCell__TableCellElement-sc-1nn7cfv-0 gOsDpy encore-text-body-small\" data-encore-id=\"tableCell\"><span data-encore-id=\"type\" class=\"Type__TypeElement-sc-goli3j-0 kqItdM\"><em>Optional</em></span></td><td class=\"TableCell__TableCellElement-sc-1nn7cfv-0 gOsDpy encore-text-body-small\" data-encore-id=\"tableCell\"><span data-encore-id=\"type\" class=\"Type__TypeElement-sc-goli3j-0 kqItdM\">Whether or not to force the user to approve the app again if they’ve already done so. If <code>false</code> (default), a user who has already approved the application may be automatically redirected to the URI specified by <code>redirect_uri</code>. If <code>true</code>, the user will not be automatically redirected and will have to approve the app again.</span></td></tr></tbody></table>"
   ]
  },
  {
   "cell_type": "markdown",
   "metadata": {},
   "source": [
    "# Tokens"
   ]
  },
  {
   "cell_type": "markdown",
   "metadata": {},
   "source": [
    "## Access\n",
    "\n",
    "If the user accepted your request, then your app is ready to exchange the authorization code for an access token.  \n",
    "It can do this by __sending a POST request__ to the `/api/token` endpoint.  \n",
    "\n",
    "The following headers must be included in the request:"
   ]
  },
  {
   "cell_type": "markdown",
   "metadata": {},
   "source": [
    "<table data-encore-id=\"table\" class=\"Table__TableElement-sc-evwssh-0 fPsMQq\"><thead><tr data-encore-id=\"tableRow\" class=\"TableRow__TableRowElement-sc-1kuhzdh-0 hoXXxN\"><th scope=\"col\" class=\"TableHeaderCell__TableHeaderCellElement-sc-16kf5kl-0 gfUuhl encore-text-body-small-bold\" data-encore-id=\"tableHeaderCell\">Header Parameter</th><th scope=\"col\" class=\"TableHeaderCell__TableHeaderCellElement-sc-16kf5kl-0 gfUuhl encore-text-body-small-bold\" data-encore-id=\"tableHeaderCell\">Relevance</th><th scope=\"col\" class=\"TableHeaderCell__TableHeaderCellElement-sc-16kf5kl-0 gfUuhl encore-text-body-small-bold\" data-encore-id=\"tableHeaderCell\">Value</th></tr></thead><tbody><tr data-encore-id=\"tableRow\" class=\"TableRow__TableRowElement-sc-1kuhzdh-0 hoXXxN\"><td class=\"TableCell__TableCellElement-sc-1nn7cfv-0 gOsDpy encore-text-body-small\" data-encore-id=\"tableCell\"><span data-encore-id=\"type\" class=\"Type__TypeElement-sc-goli3j-0 kqItdM\">Authorization</span></td><td class=\"TableCell__TableCellElement-sc-1nn7cfv-0 gOsDpy encore-text-body-small\" data-encore-id=\"tableCell\"><span data-encore-id=\"type\" class=\"Type__TypeElement-sc-goli3j-0 kqItdM\"><em>Required</em></span></td><td class=\"TableCell__TableCellElement-sc-1nn7cfv-0 gOsDpy encore-text-body-small\" data-encore-id=\"tableCell\"><span data-encore-id=\"type\" class=\"Type__TypeElement-sc-goli3j-0 kqItdM\">Base 64 encoded string that contains the client ID and client secret key. The field must have the format: <code>Authorization: Basic &lt;base64 encoded client_id:client_secret&gt;</code></span></td></tr><tr data-encore-id=\"tableRow\" class=\"TableRow__TableRowElement-sc-1kuhzdh-0 hoXXxN\"><td class=\"TableCell__TableCellElement-sc-1nn7cfv-0 gOsDpy encore-text-body-small\" data-encore-id=\"tableCell\"><span data-encore-id=\"type\" class=\"Type__TypeElement-sc-goli3j-0 kqItdM\">Content-Type</span></td><td class=\"TableCell__TableCellElement-sc-1nn7cfv-0 gOsDpy encore-text-body-small\" data-encore-id=\"tableCell\"><span data-encore-id=\"type\" class=\"Type__TypeElement-sc-goli3j-0 kqItdM\"><em>Required</em></span></td><td class=\"TableCell__TableCellElement-sc-1nn7cfv-0 gOsDpy encore-text-body-small\" data-encore-id=\"tableCell\"><span data-encore-id=\"type\" class=\"Type__TypeElement-sc-goli3j-0 kqItdM\">Set to <code>application/x-www-form-urlencoded</code>.</span></td></tr></tbody></table>"
   ]
  },
  {
   "cell_type": "markdown",
   "metadata": {},
   "source": [
    "The body of this POST request must contain these parameters encoded in `application/x-www-form-urlencoded`:\n",
    "\n",
    "<table data-encore-id=\"table\" class=\"Table__TableElement-sc-evwssh-0 fPsMQq\"><thead><tr data-encore-id=\"tableRow\" class=\"TableRow__TableRowElement-sc-1kuhzdh-0 hoXXxN\"><th scope=\"col\" class=\"TableHeaderCell__TableHeaderCellElement-sc-16kf5kl-0 gfUuhl encore-text-body-small-bold\" data-encore-id=\"tableHeaderCell\">Body Parameters</th><th scope=\"col\" class=\"TableHeaderCell__TableHeaderCellElement-sc-16kf5kl-0 gfUuhl encore-text-body-small-bold\" data-encore-id=\"tableHeaderCell\">Relevance</th><th scope=\"col\" class=\"TableHeaderCell__TableHeaderCellElement-sc-16kf5kl-0 gfUuhl encore-text-body-small-bold\" data-encore-id=\"tableHeaderCell\">Value</th></tr></thead><tbody><tr data-encore-id=\"tableRow\" class=\"TableRow__TableRowElement-sc-1kuhzdh-0 hoXXxN\"><td class=\"TableCell__TableCellElement-sc-1nn7cfv-0 gOsDpy encore-text-body-small\" data-encore-id=\"tableCell\"><span data-encore-id=\"type\" class=\"Type__TypeElement-sc-goli3j-0 kqItdM\">grant_type</span></td><td class=\"TableCell__TableCellElement-sc-1nn7cfv-0 gOsDpy encore-text-body-small\" data-encore-id=\"tableCell\"><span data-encore-id=\"type\" class=\"Type__TypeElement-sc-goli3j-0 kqItdM\"><em>Required</em></span></td><td class=\"TableCell__TableCellElement-sc-1nn7cfv-0 gOsDpy encore-text-body-small\" data-encore-id=\"tableCell\"><span data-encore-id=\"type\" class=\"Type__TypeElement-sc-goli3j-0 kqItdM\">This field must contain the value <code>\"authorization_code\"</code>.</span></td></tr><tr data-encore-id=\"tableRow\" class=\"TableRow__TableRowElement-sc-1kuhzdh-0 hoXXxN\"><td class=\"TableCell__TableCellElement-sc-1nn7cfv-0 gOsDpy encore-text-body-small\" data-encore-id=\"tableCell\"><span data-encore-id=\"type\" class=\"Type__TypeElement-sc-goli3j-0 kqItdM\">code</span></td><td class=\"TableCell__TableCellElement-sc-1nn7cfv-0 gOsDpy encore-text-body-small\" data-encore-id=\"tableCell\"><span data-encore-id=\"type\" class=\"Type__TypeElement-sc-goli3j-0 kqItdM\"><em>Required</em></span></td><td class=\"TableCell__TableCellElement-sc-1nn7cfv-0 gOsDpy encore-text-body-small\" data-encore-id=\"tableCell\"><span data-encore-id=\"type\" class=\"Type__TypeElement-sc-goli3j-0 kqItdM\">The authorization code returned from the previous request.</span></td></tr><tr data-encore-id=\"tableRow\" class=\"TableRow__TableRowElement-sc-1kuhzdh-0 hoXXxN\"><td class=\"TableCell__TableCellElement-sc-1nn7cfv-0 gOsDpy encore-text-body-small\" data-encore-id=\"tableCell\"><span data-encore-id=\"type\" class=\"Type__TypeElement-sc-goli3j-0 kqItdM\">redirect_uri</span></td><td class=\"TableCell__TableCellElement-sc-1nn7cfv-0 gOsDpy encore-text-body-small\" data-encore-id=\"tableCell\"><span data-encore-id=\"type\" class=\"Type__TypeElement-sc-goli3j-0 kqItdM\"><em>Required</em></span></td><td class=\"TableCell__TableCellElement-sc-1nn7cfv-0 gOsDpy encore-text-body-small\" data-encore-id=\"tableCell\"><span data-encore-id=\"type\" class=\"Type__TypeElement-sc-goli3j-0 kqItdM\">This parameter is used for validation only (there is no actual redirection). The value of this parameter must exactly match the value of <code>redirect_uri</code> supplied when requesting the authorization code.</span></td></tr></tbody></table>"
   ]
  },
  {
   "cell_type": "markdown",
   "metadata": {},
   "source": [
    "## Refresh\n",
    "\n",
    "To refresh an access token, we must __send a POST request__ to the `/api/token` endpoint with the following headers:"
   ]
  },
  {
   "cell_type": "markdown",
   "metadata": {},
   "source": [
    "<table data-encore-id=\"table\" class=\"Table__TableElement-sc-evwssh-0 fPsMQq\"><thead><tr data-encore-id=\"tableRow\" class=\"TableRow__TableRowElement-sc-1kuhzdh-0 hoXXxN\"><th scope=\"col\" class=\"TableHeaderCell__TableHeaderCellElement-sc-16kf5kl-0 gfUuhl encore-text-body-small-bold\" data-encore-id=\"tableHeaderCell\">Header Parameter</th><th scope=\"col\" class=\"TableHeaderCell__TableHeaderCellElement-sc-16kf5kl-0 gfUuhl encore-text-body-small-bold\" data-encore-id=\"tableHeaderCell\">Relevance</th><th scope=\"col\" class=\"TableHeaderCell__TableHeaderCellElement-sc-16kf5kl-0 gfUuhl encore-text-body-small-bold\" data-encore-id=\"tableHeaderCell\">Value</th></tr></thead><tbody><tr data-encore-id=\"tableRow\" class=\"TableRow__TableRowElement-sc-1kuhzdh-0 hoXXxN\"><td class=\"TableCell__TableCellElement-sc-1nn7cfv-0 gOsDpy encore-text-body-small\" data-encore-id=\"tableCell\"><span data-encore-id=\"type\" class=\"Type__TypeElement-sc-goli3j-0 kqItdM\">Content-Type</span></td><td class=\"TableCell__TableCellElement-sc-1nn7cfv-0 gOsDpy encore-text-body-small\" data-encore-id=\"tableCell\"><span data-encore-id=\"type\" class=\"Type__TypeElement-sc-goli3j-0 kqItdM\"><em>Required</em></span></td><td class=\"TableCell__TableCellElement-sc-1nn7cfv-0 gOsDpy encore-text-body-small\" data-encore-id=\"tableCell\"><span data-encore-id=\"type\" class=\"Type__TypeElement-sc-goli3j-0 kqItdM\">Always set to <code>application/x-www-form-urlencoded</code>.</span></td></tr><tr data-encore-id=\"tableRow\" class=\"TableRow__TableRowElement-sc-1kuhzdh-0 hoXXxN\"><td class=\"TableCell__TableCellElement-sc-1nn7cfv-0 gOsDpy encore-text-body-small\" data-encore-id=\"tableCell\"><span data-encore-id=\"type\" class=\"Type__TypeElement-sc-goli3j-0 kqItdM\">Authorization</span></td><td class=\"TableCell__TableCellElement-sc-1nn7cfv-0 gOsDpy encore-text-body-small\" data-encore-id=\"tableCell\"><span data-encore-id=\"type\" class=\"Type__TypeElement-sc-goli3j-0 kqItdM\"><strong>Only required for the</strong> <a data-encore-id=\"textLink\" class=\"Link-sc-k8gsk-0 hkKYOq\" href=\"https://developer.spotify.com/documentation/web-api/tutorials/code-flow\">Authorization Code</a></span></td><td class=\"TableCell__TableCellElement-sc-1nn7cfv-0 gOsDpy encore-text-body-small\" data-encore-id=\"tableCell\"><span data-encore-id=\"type\" class=\"Type__TypeElement-sc-goli3j-0 kqItdM\">Base 64 encoded string that contains the client ID and client secret key. The field must have the format: <code>Authorization: Basic &lt;base64 encoded client_id:client_secret&gt;</code></span></td></tr></tbody></table>"
   ]
  },
  {
   "cell_type": "markdown",
   "metadata": {},
   "source": [
    "and the following body:\n",
    "\n",
    "<table data-encore-id=\"table\" class=\"Table__TableElement-sc-evwssh-0 fPsMQq\"><thead><tr data-encore-id=\"tableRow\" class=\"TableRow__TableRowElement-sc-1kuhzdh-0 hoXXxN\"><th scope=\"col\" class=\"TableHeaderCell__TableHeaderCellElement-sc-16kf5kl-0 gfUuhl encore-text-body-small-bold\" data-encore-id=\"tableHeaderCell\">Body Parameter</th><th scope=\"col\" class=\"TableHeaderCell__TableHeaderCellElement-sc-16kf5kl-0 gfUuhl encore-text-body-small-bold\" data-encore-id=\"tableHeaderCell\">Relevance</th><th scope=\"col\" class=\"TableHeaderCell__TableHeaderCellElement-sc-16kf5kl-0 gfUuhl encore-text-body-small-bold\" data-encore-id=\"tableHeaderCell\">Value</th></tr></thead><tbody><tr data-encore-id=\"tableRow\" class=\"TableRow__TableRowElement-sc-1kuhzdh-0 hoXXxN\"><td class=\"TableCell__TableCellElement-sc-1nn7cfv-0 gOsDpy encore-text-body-small\" data-encore-id=\"tableCell\"><span data-encore-id=\"type\" class=\"Type__TypeElement-sc-goli3j-0 kqItdM\">grant_type</span></td><td class=\"TableCell__TableCellElement-sc-1nn7cfv-0 gOsDpy encore-text-body-small\" data-encore-id=\"tableCell\"><span data-encore-id=\"type\" class=\"Type__TypeElement-sc-goli3j-0 kqItdM\"><em>Required</em></span></td><td class=\"TableCell__TableCellElement-sc-1nn7cfv-0 gOsDpy encore-text-body-small\" data-encore-id=\"tableCell\"><span data-encore-id=\"type\" class=\"Type__TypeElement-sc-goli3j-0 kqItdM\">Set it to <code>refresh_token</code>.</span></td></tr><tr data-encore-id=\"tableRow\" class=\"TableRow__TableRowElement-sc-1kuhzdh-0 hoXXxN\"><td class=\"TableCell__TableCellElement-sc-1nn7cfv-0 gOsDpy encore-text-body-small\" data-encore-id=\"tableCell\"><span data-encore-id=\"type\" class=\"Type__TypeElement-sc-goli3j-0 kqItdM\">refresh_token</span></td><td class=\"TableCell__TableCellElement-sc-1nn7cfv-0 gOsDpy encore-text-body-small\" data-encore-id=\"tableCell\"><span data-encore-id=\"type\" class=\"Type__TypeElement-sc-goli3j-0 kqItdM\"><em>Required</em></span></td><td class=\"TableCell__TableCellElement-sc-1nn7cfv-0 gOsDpy encore-text-body-small\" data-encore-id=\"tableCell\"><span data-encore-id=\"type\" class=\"Type__TypeElement-sc-goli3j-0 kqItdM\">The refresh token returned from the authorization token request.</span></td></tr><tr data-encore-id=\"tableRow\" class=\"TableRow__TableRowElement-sc-1kuhzdh-0 hoXXxN\"><td class=\"TableCell__TableCellElement-sc-1nn7cfv-0 gOsDpy encore-text-body-small\" data-encore-id=\"tableCell\"><span data-encore-id=\"type\" class=\"Type__TypeElement-sc-goli3j-0 kqItdM\">client_id</span></td><td class=\"TableCell__TableCellElement-sc-1nn7cfv-0 gOsDpy encore-text-body-small\" data-encore-id=\"tableCell\"><span data-encore-id=\"type\" class=\"Type__TypeElement-sc-goli3j-0 kqItdM\"><strong>Only required for the</strong> <a data-encore-id=\"textLink\" class=\"Link-sc-k8gsk-0 hkKYOq\" href=\"https://developer.spotify.com/documentation/web-api/tutorials/code-flow\">PKCE extension</a></span></td><td class=\"TableCell__TableCellElement-sc-1nn7cfv-0 gOsDpy encore-text-body-small\" data-encore-id=\"tableCell\"><span data-encore-id=\"type\" class=\"Type__TypeElement-sc-goli3j-0 kqItdM\">The client ID for your app, available from the developer dashboard.</span></td></tr></tbody></table>"
   ]
  },
  {
   "cell_type": "code",
   "execution_count": 6,
   "metadata": {},
   "outputs": [],
   "source": [
    "def get_code_url():\n",
    "\n",
    "    global flag_get_code, auth_url, continue_login\n",
    "    print('Flag =', flag_get_code)\n",
    "    \n",
    "    if flag_get_code == 0 or not continue_login:\n",
    "        flag_get_code = 1\n",
    "\n",
    "        global auth_endpoint, query_params\n",
    "        params = urllib.parse.urlencode(query_params)\n",
    "        auth_url = auth_endpoint + '?' + params\n",
    "\n",
    "        response = requests.get(auth_url)\n",
    "        status = response.status_code\n",
    "\n",
    "        if status == 200:\n",
    "            print('\\tCode obtained successfully!')\n",
    "            continue_login = response.url\n",
    "            print('\\tGet the whole URL in the browser and past it \\'code_url below\\':', f'\\t{continue_login}', sep='\\n')\n",
    "            print(f'\\tNote: substring \\'code=\\' will be between \\'{redirect_uri}?code=\\' and \\'&state=\\'')\n",
    "\n",
    "    else:\n",
    "        print('Code already obtained?', continue_login, sep='\\n')\n",
    "    \n",
    "    return continue_login \n",
    "\n",
    "\n",
    "def get_access_token():\n",
    "    \n",
    "    global flag_get_access_token, get_access_token_response\n",
    "    print('Flag =', flag_get_access_token)\n",
    "\n",
    "    if flag_get_access_token == 0 or not get_access_token_response:\n",
    "        flag_get_access_token = 1\n",
    "\n",
    "        global access_token_headers, access_token_payload\n",
    "        \n",
    "        response = requests.post(token_endpoint, headers=access_token_headers, data=access_token_payload)\n",
    "        status = response.status_code\n",
    "\n",
    "        if status == 200:\n",
    "            print('\\nAccess token obtained successfully!')\n",
    "            access_token = response.json().get('access_token')\n",
    "            token_type = response.json().get('token_type')\n",
    "            expires_in = response.json().get('expires_in')\n",
    "            refresh_token = response.json().get('refresh_token')\n",
    "            \n",
    "            response = {\n",
    "                'access_token': access_token,\n",
    "                'token_type': token_type,\n",
    "                'expires_in': expires_in,\n",
    "                'refresh_token': refresh_token,\n",
    "                'status': status\n",
    "            }\n",
    "    \n",
    "    else:\n",
    "        response = get_access_token_response\n",
    "        print('Access token request already sent? Status:', response['status'])\n",
    "    \n",
    "    return response\n",
    "\n",
    "\n",
    "def get_refresh_token():\n",
    "\n",
    "    global flag_refresh_token, get_access_token_response, get_refresh_token_response\n",
    "    print('Flag =', flag_refresh_token)\n",
    "\n",
    "    if flag_refresh_token == 0 or not get_access_token_response['refresh_token']:\n",
    "        flag_refresh_token = 1\n",
    "\n",
    "        global refresh_token_headers, refresh_token_payload\n",
    "\n",
    "        response = requests.post(token_endpoint, headers=refresh_token_headers, data=refresh_token_payload)\n",
    "        status = response.status_code\n",
    "        \n",
    "        if status == 200:\n",
    "            print('\\nRefresh token obtained successfully!')\n",
    "            access_token = response.json().get('access_token')\n",
    "            token_type = response.json().get('token_type')\n",
    "            expires_in = response.json().get('expires_in')\n",
    "            #refresh_token = response.json().get('refresh_token')\n",
    "            \n",
    "            response = {\n",
    "                'access_token': access_token,\n",
    "                'token_type': token_type,\n",
    "                'expires_in': expires_in,\n",
    "                #'refresh_token': refresh_token,\n",
    "                'status': status\n",
    "            }\n",
    "\n",
    "    else:\n",
    "        response = get_refresh_token_response\n",
    "        print('Refresh token request already sent? Status:', response['status'])\n",
    "\n",
    "    return response\n",
    "\n",
    "\n",
    "def get_flowCtx():\n",
    "\n",
    "    global continue_login\n",
    "    url = continue_login\n",
    "\n",
    "    response = requests.request(\"GET\", url)\n",
    "\n",
    "    if response.status_code == 200:\n",
    "        soup = BeautifulSoup(response.text, 'html.parser')\n",
    "        json_content = soup.find('meta', id='bootstrap-data').get('sp-bootstrap-data')\n",
    "        flowCtx = json.loads(json_content)['flowCtx']\n",
    "    else:\n",
    "        flowCtx = None\n",
    "\n",
    "    return flowCtx\n",
    "\n",
    "\n",
    "#flowCtx = get_flowCtx()\n",
    "#print('flowCtx =', flowCtx)\n",
    "\n",
    "#assert get_flowCtx(), f'Errore durante la richiesta GET a login. flowCtx = {flowCtx}'"
   ]
  },
  {
   "cell_type": "markdown",
   "metadata": {},
   "source": [
    "## Code URL"
   ]
  },
  {
   "cell_type": "code",
   "execution_count": 7,
   "metadata": {},
   "outputs": [
    {
     "name": "stdout",
     "output_type": "stream",
     "text": [
      "Flag = 0\n",
      "\tCode obtained successfully!\n",
      "\tGet the whole URL in the browser and past it 'code_url below':\n",
      "\thttps://accounts.spotify.com/it/login?continue=https%3A%2F%2Faccounts.spotify.com%2Fauthorize%3Fscope%3Duser-follow-read%26response_type%3Dcode%26redirect_uri%3Dhttp%253A%252F%252Flocalhost%253A8888%252Fcallback%26state%3D509191e3df4ba84f%26client_id%3D63ff05747c964b36b7464af88058c1e1\n",
      "\tNote: substring 'code=' will be between 'http://localhost:8888/callback?code=' and '&state='\n"
     ]
    }
   ],
   "source": [
    "continue_login = get_code_url()\n",
    "assert len(continue_login) > 1, 'Errore: codice di autorizzazione non impostato'"
   ]
  },
  {
   "cell_type": "code",
   "execution_count": 8,
   "metadata": {},
   "outputs": [],
   "source": [
    "code_url = 'http://localhost:8888/callback?code=AQBsyFTTwcrnj338_IdAp2AgR-T1i8ZD7MUnBv4eKguiejfj_2S6uQG0KowOuGTaivhoCcx5bMPdXsb744wQDyB6mgpHbZzH-Z5i1HYcqdTinvjDTtTH9JA0-4WRmJv3gZ6P9eSoSYxUFx1kkeGT9Cnh6BLYXqz7Kd2bzpdF7wdzOrKtat7UPQSR-oJzKfBxHkHTaw&state=509191e3df4ba84f'\n",
    "\n",
    "code = code_url.split('code=')[1].split('&state=')[0]\n",
    "\n",
    "access_token_payload['code'] = code"
   ]
  },
  {
   "cell_type": "code",
   "execution_count": 9,
   "metadata": {},
   "outputs": [
    {
     "name": "stdout",
     "output_type": "stream",
     "text": [
      "Flag = 0\n",
      "\n",
      "Access token obtained successfully!\n",
      "+---------------+-----------------------------------------------------------------------------------------------------------------------------------------------------------------------------------------------------+\n",
      "| access_token  | BQBL-nDOhDsztDrptWH9CGCgNmznfprUleDo4i69e9S9C-G8hauiontYeon1zT3cnd9BpnhORcs-0pdoEku4SD0MF1D7QlmC-Yyjb8qtRaTTixr0IGgOjYDkn2WWVG5ezFbZ21H0gOCL56k3bLvyu0WkiZnsjLzJ3Fjk1GBYnrYKeeCOBXMJGtt_bR6riD4hJQU |\n",
      "+---------------+-----------------------------------------------------------------------------------------------------------------------------------------------------------------------------------------------------+\n",
      "| token_type    | Bearer                                                                                                                                                                                              |\n",
      "+---------------+-----------------------------------------------------------------------------------------------------------------------------------------------------------------------------------------------------+\n",
      "| expires_in    | 3600                                                                                                                                                                                                |\n",
      "+---------------+-----------------------------------------------------------------------------------------------------------------------------------------------------------------------------------------------------+\n",
      "| refresh_token | AQB-rJD5tgFNhYrWZy7Z4Jg93TySPDrLlcGX6BvYfhAo3FH-n2vnIOZz786l6tIUTt4eFY8trpZbO7mWetCKArpDHShFNfpxctK63PnKYbMygVwP398Dlde7G7M-98xpA0k                                                                 |\n",
      "+---------------+-----------------------------------------------------------------------------------------------------------------------------------------------------------------------------------------------------+\n",
      "| status        | 200                                                                                                                                                                                                 |\n",
      "+---------------+-----------------------------------------------------------------------------------------------------------------------------------------------------------------------------------------------------+\n"
     ]
    }
   ],
   "source": [
    "get_access_token_response = get_access_token()\n",
    "if get_access_token_response and get_access_token_response['status'] == 200:\n",
    "    print(tabulate(get_access_token_response.items(), tablefmt='grid'))\n",
    "else:\n",
    "    print('Errore durante la richiesta POST all\\'endpoint /api/token')\n",
    "    print('\\nCodice:', get_access_token_response.status_code)\n",
    "    print('\\nTesto:\\n', json.dumps(get_access_token_response.json(), indent=2), sep='')"
   ]
  },
  {
   "cell_type": "code",
   "execution_count": 10,
   "metadata": {},
   "outputs": [
    {
     "name": "stdout",
     "output_type": "stream",
     "text": [
      "Flag = 0\n",
      "\n",
      "Refresh token obtained successfully!\n",
      "+--------------+-----------------------------------------------------------------------------------------------------------------------------------------------------------------------------------------------------+\n",
      "| access_token | BQBxDZw2MMv6FLJgDd8vAaif5yNXbLfEUNBV_5U5tdRJ3Xr2Xgqr0xZ5VpYqtJMXelBtEnP5zIaLrkjYgH9xshhy2LAHYxfBBt2-dgDxBPsXBBqqdw2ecLfFYo2Lis_rRXVyHByv_aN4U7U2e4jEqP15GLrdHrOHFQc-2aWjQdKhgwnbBnlKGO9Fk6epT7H2vAU |\n",
      "+--------------+-----------------------------------------------------------------------------------------------------------------------------------------------------------------------------------------------------+\n",
      "| token_type   | Bearer                                                                                                                                                                                              |\n",
      "+--------------+-----------------------------------------------------------------------------------------------------------------------------------------------------------------------------------------------------+\n",
      "| expires_in   | 3600                                                                                                                                                                                                |\n",
      "+--------------+-----------------------------------------------------------------------------------------------------------------------------------------------------------------------------------------------------+\n",
      "| status       | 200                                                                                                                                                                                                 |\n",
      "+--------------+-----------------------------------------------------------------------------------------------------------------------------------------------------------------------------------------------------+\n"
     ]
    }
   ],
   "source": [
    "refresh_token_payload['refresh_token'] = get_access_token_response['refresh_token']\n",
    "\n",
    "get_refresh_token_response = get_refresh_token()\n",
    "if get_refresh_token_response and get_refresh_token_response['status'] == 200:\n",
    "    print(tabulate(get_refresh_token_response.items(), tablefmt='grid'))\n",
    "else:\n",
    "    print('Errore durante la richiesta POST all\\'endpoint /api/token')\n",
    "    print('\\nCodice:', get_refresh_token_response.status_code)\n",
    "    print('\\nTesto:', get_refresh_token_response.text)\n",
    "    print(tabulate(get_refresh_token_response.items(), tablefmt='grid'))"
   ]
  },
  {
   "cell_type": "markdown",
   "metadata": {},
   "source": [
    "# API Calls"
   ]
  },
  {
   "cell_type": "markdown",
   "metadata": {},
   "source": [
    "## Variables"
   ]
  },
  {
   "cell_type": "code",
   "execution_count": 77,
   "metadata": {},
   "outputs": [],
   "source": [
    "artists_follow_headers = {\n",
    "    'Authorization': f'Bearer {get_refresh_token_response['access_token']}'\n",
    "}\n",
    "\n",
    "artists_followlist = {}\n",
    "def get_artists(headers):\n",
    "\n",
    "    global get_access_token_response, artists_followlist\n",
    "\n",
    "    if artists_followlist:\n",
    "        return artists_followlist['artists']\n",
    "    \n",
    "    if not get_access_token_response['access_token']:\n",
    "        get_access_token_response = get_refresh_token()\n",
    "        if not get_access_token_response['access_token']:\n",
    "            print('Access token failed (get_artists function)')\n",
    "            return\n",
    "\n",
    "    url = artist_endpoint + '&limit=50'\n",
    "    artists_endpoint = requests.get(url, headers=headers)\n",
    "\n",
    "    if artists_endpoint.status_code == 200:\n",
    "        artists_followlist = artists_endpoint.json()\n",
    "        #print('Artists:', json.dumps(artists_followlist, indent=4))\n",
    "    else:\n",
    "        get_access_token_response = get_refresh_token()\n",
    "        artists_endpoint = requests.get(url, headers=headers)\n",
    "        if artists_endpoint.status_code == 200:\n",
    "            artists_followlist = artists_endpoint.json()\n",
    "            #print('Artists:', json.dumps(artists_followlist, indent=4))\n",
    "        else:\n",
    "            print('Errore durante la richiesta degli artisti seguiti:', json.dumps(artists_endpoint.json(), indent=4), sep='\\n')\n",
    "\n",
    "    return artists_followlist['artists']"
   ]
  },
  {
   "cell_type": "markdown",
   "metadata": {},
   "source": [
    "---"
   ]
  },
  {
   "cell_type": "markdown",
   "metadata": {},
   "source": [
    "## Followed Artists"
   ]
  },
  {
   "cell_type": "code",
   "execution_count": 59,
   "metadata": {},
   "outputs": [],
   "source": [
    "def fast_dataframe(dict_X):\n",
    "\n",
    "    if isinstance(dict_X, pd.DataFrame):\n",
    "        print('Already a dataframe! -> ', type(dict_X))\n",
    "        print(dict_X.head(), '...', dict_X.tail())\n",
    "        return dict_X\n",
    "\n",
    "    if not isinstance(dict_X, dict):\n",
    "        print('Not a dictionary! -> ', type(dict_X))\n",
    "        return None\n",
    "\n",
    "    data_X = []\n",
    "    for key in dict_X.keys():\n",
    "        value = dict_X[key]\n",
    "        value_type = type(value).__name__\n",
    "        length = len(value) if isinstance(value, (dict, list)) else 0\n",
    "        \n",
    "        if isinstance(value, (dict, list)):\n",
    "            first_element = next(iter(value))\n",
    "        else:\n",
    "            first_element = value\n",
    "        \n",
    "        data_X.append({\n",
    "            'Key': key,\n",
    "            'Val type': value_type,\n",
    "            'Len': length,\n",
    "            'First Val': first_element\n",
    "        })\n",
    "\n",
    "    return pd.DataFrame(data_X, index=list(range(1,len(data_X)+1)))\n",
    "\n",
    "\n",
    "artists = get_artists(artists_follow_headers)"
   ]
  },
  {
   "cell_type": "markdown",
   "metadata": {},
   "source": [
    "### __artists__ (dict)"
   ]
  },
  {
   "cell_type": "markdown",
   "metadata": {},
   "source": [
    "`artists` has type `dict` and has `6` keys: __['items', 'next', 'total', 'cursors', 'limit', 'href']__\n",
    "\n",
    "| i | Key     | Val type   |   Len | First Val\n",
    "|---:|:--------|:-----------|:------|:----------\n",
    "|  1 | __items__   | list       |    50 | Array of artist objects. (see below)|\n",
    "|  2 | __next__    | str        |   | URL to the next page of items. ( null if none) |\n",
    "|  3 | __total__   | int        |   | The total number of items available to return. |                                                                                                                                                                                                                    \n",
    "|  4 | __cursors__ | dict       |     1 | 'after': the cursor to use as key to find the next page of items; 'before': the cursor to use as key to find the previous page of items.  |\n",
    "|  5 | __limit__   | int        |   | The maximum number of items in the response (as set in the query or by default: 20). |\n",
    "|  6 | __href__    | str        |   | A link to the Web API endpoint returning the full result of the request. |     "
   ]
  },
  {
   "cell_type": "code",
   "execution_count": 60,
   "metadata": {},
   "outputs": [
    {
     "name": "stdout",
     "output_type": "stream",
     "text": [
      "Total artists in followlist: 250\n",
      "'items' is list...\n",
      "'next' is str: 'https://api.spotify.com/v1/me/following?type=artist&limit=50&after=1JSPpoXFLcEG2WhYlvmHPJ'\n",
      "'total' is int: '250'\n",
      "'cursors' is dict...\n",
      "'limit' is int: '50'\n",
      "'href' is str: 'https://api.spotify.com/v1/me/following?type=artist&limit=50'\n"
     ]
    }
   ],
   "source": [
    "total = artists['total']\n",
    "artists_items = artists['items']\n",
    "\n",
    "print('Total artists in followlist:', total)\n",
    "for k, v in artists.items():\n",
    "    print(f'\\'{k}\\' is ', type(v).__name__, f': \\'{v}\\'' if type(v).__name__ not in ['dict', 'list'] else '...', sep='')"
   ]
  },
  {
   "cell_type": "code",
   "execution_count": 61,
   "metadata": {},
   "outputs": [],
   "source": [
    "assert artists['next'].split('after=')[1] == artists_items[-1]['id']\n",
    "\n",
    "# 'next' è l'id dell'ultimo artista raccolto"
   ]
  },
  {
   "cell_type": "markdown",
   "metadata": {},
   "source": [
    "### __items__ (dict)\n",
    "\n",
    "`items` values have type  `dict` and have `10` keys: __['__external_urls__', '__followers__', '__genres__', 'href', '__id__', 'images', '__name__', 'popularity', '__type__', 'uri']__"
   ]
  },
  {
   "cell_type": "markdown",
   "metadata": {},
   "source": [
    "| i | Key           | Val type   |   Len | First Val    |  What is? |\n",
    "|----|---------------|------------|-------|------------------| ----------------- | \n",
    "|  1 | external_urls    |   dict    |    1  |   spotify |   key: 'spotify', value: 'the Spotify URL for the object'|\n",
    "|  2 | followers    | dict       |  2    |  href | key: 'total', value: 'the total integer of followers' |\n",
    "|  3 | __genres__   | list       |  6    |  c64 | list of genres the artist is associated with: [\"Prog rock\",\"Grunge\"] |\n",
    "|  4 | href | str   |   | /v1/artists/{artist_id} |     |\n",
    "|  5 | __id__   | str   |   |   00Uv0804nrBM2RxUBTkyHj  |   Spotify ID for the artist   |\n",
    "|  6 | images   |   list    |   3   |   {'height': '', 'url': '', 'width': ''}   |      |\n",
    "|  7 | __name__ |   str |   |   Wobbler |   Name of the artist |\n",
    "|  8 | popularity    | int        | | 17  |  |\n",
    "|  9 | __type__          | str        | | artist  | \"artist\" |\n",
    "| 10 | uri           | str        | | spotify:artist:00Uv0804nrBM2RxUBTkyHj   |  |"
   ]
  },
  {
   "cell_type": "code",
   "execution_count": 62,
   "metadata": {},
   "outputs": [
    {
     "name": "stdout",
     "output_type": "stream",
     "text": [
      "'external_urls' is dict...\n",
      "'followers' is dict...\n",
      "'genres' is list...\n",
      "'href' is str: 'https://api.spotify.com/v1/artists/00Uv0804nrBM2RxUBTkyHj'\n",
      "'id' is str: '00Uv0804nrBM2RxUBTkyHj'\n",
      "'images' is list...\n",
      "'name' is str: 'Wobbler'\n",
      "'popularity' is int: '17'\n",
      "'type' is str: 'artist'\n",
      "'uri' is str: 'spotify:artist:00Uv0804nrBM2RxUBTkyHj'\n"
     ]
    }
   ],
   "source": [
    "list(artists_items[0].keys())\n",
    "\n",
    "for i, item in enumerate(artists_items[0]):\n",
    "    item_key = item\n",
    "    item = artists_items[0][item]\n",
    "    print(f'\\'{item_key}\\' is {type(item).__name__}', f': \\'{item}\\'' if type(item).__name__ not in ['dict', 'list'] else '...', sep='')\n"
   ]
  },
  {
   "cell_type": "code",
   "execution_count": 63,
   "metadata": {},
   "outputs": [
    {
     "name": "stdout",
     "output_type": "stream",
     "text": [
      "Corpo della risposta all'endpoint /me/following?type=artist&limit=50:\n",
      "(solo i primi 5 artisti)\n",
      "+-----------------------------------------------------------------------+---------------------------------+--------------------------------------------------------------------------------------------------------------+-----------------------------------------------------------+------------------------+--------------------------------------------------------------------------------------------------------------------------------------------------------------------------------------------------------------------------------------------------------------------------------------------------------------------------------+----------------+--------------+--------+---------------------------------------+\n",
      "| external_urls                                                         | followers                       | genres                                                                                                       | href                                                      | id                     | images                                                                                                                                                                                                                                                                                                                         | name           |   popularity | type   | uri                                   |\n",
      "+=======================================================================+=================================+==============================================================================================================+===========================================================+========================+================================================================================================================================================================================================================================================================================================================================+================+==============+========+=======================================+\n",
      "| {'spotify': 'https://open.spotify.com/artist/00Uv0804nrBM2RxUBTkyHj'} | {'href': None, 'total': 18473}  | ['c64', 'italian progressive rock', 'neo-progressive', 'norwegian prog', 'progressive rock', 'swedish prog'] | https://api.spotify.com/v1/artists/00Uv0804nrBM2RxUBTkyHj | 00Uv0804nrBM2RxUBTkyHj | [{'height': 640, 'url': 'https://i.scdn.co/image/ab6761610000e5eb6ce3b74c2e4c71bf882ed2cf', 'width': 640}, {'height': 320, 'url': 'https://i.scdn.co/image/ab676161000051746ce3b74c2e4c71bf882ed2cf', 'width': 320}, {'height': 160, 'url': 'https://i.scdn.co/image/ab6761610000f1786ce3b74c2e4c71bf882ed2cf', 'width': 160}] | Wobbler        |           17 | artist | spotify:artist:00Uv0804nrBM2RxUBTkyHj |\n",
      "+-----------------------------------------------------------------------+---------------------------------+--------------------------------------------------------------------------------------------------------------+-----------------------------------------------------------+------------------------+--------------------------------------------------------------------------------------------------------------------------------------------------------------------------------------------------------------------------------------------------------------------------------------------------------------------------------+----------------+--------------+--------+---------------------------------------+\n",
      "| {'spotify': 'https://open.spotify.com/artist/02fDf7HEPtBZLtPzCyxSR2'} | {'href': None, 'total': 17324}  | ['deconstructed club', 'fluxwork', 'mandible', 'scottish electronic', 'uk experimental electronic']          | https://api.spotify.com/v1/artists/02fDf7HEPtBZLtPzCyxSR2 | 02fDf7HEPtBZLtPzCyxSR2 | [{'height': 640, 'url': 'https://i.scdn.co/image/ab6761610000e5ebe456c0e91da965f7bfb90b60', 'width': 640}, {'height': 320, 'url': 'https://i.scdn.co/image/ab67616100005174e456c0e91da965f7bfb90b60', 'width': 320}, {'height': 160, 'url': 'https://i.scdn.co/image/ab6761610000f178e456c0e91da965f7bfb90b60', 'width': 160}] | Lanark Artefax |           20 | artist | spotify:artist:02fDf7HEPtBZLtPzCyxSR2 |\n",
      "+-----------------------------------------------------------------------+---------------------------------+--------------------------------------------------------------------------------------------------------------+-----------------------------------------------------------+------------------------+--------------------------------------------------------------------------------------------------------------------------------------------------------------------------------------------------------------------------------------------------------------------------------------------------------------------------------+----------------+--------------+--------+---------------------------------------+\n",
      "| {'spotify': 'https://open.spotify.com/artist/058thnz6odaxoAN4n3cMBN'} | {'href': None, 'total': 145584} | ['bergamo indie', 'italian alternative']                                                                     | https://api.spotify.com/v1/artists/058thnz6odaxoAN4n3cMBN | 058thnz6odaxoAN4n3cMBN | [{'height': 640, 'url': 'https://i.scdn.co/image/ab6761610000e5eb3d66c8edfe99c00a8ef9aeca', 'width': 640}, {'height': 320, 'url': 'https://i.scdn.co/image/ab676161000051743d66c8edfe99c00a8ef9aeca', 'width': 320}, {'height': 160, 'url': 'https://i.scdn.co/image/ab6761610000f1783d66c8edfe99c00a8ef9aeca', 'width': 160}] | Verdena        |           42 | artist | spotify:artist:058thnz6odaxoAN4n3cMBN |\n",
      "+-----------------------------------------------------------------------+---------------------------------+--------------------------------------------------------------------------------------------------------------+-----------------------------------------------------------+------------------------+--------------------------------------------------------------------------------------------------------------------------------------------------------------------------------------------------------------------------------------------------------------------------------------------------------------------------------+----------------+--------------+--------+---------------------------------------+\n",
      "| {'spotify': 'https://open.spotify.com/artist/05MlomiA9La0OiNIAGqECk'} | {'href': None, 'total': 92334}  | ['brighton indie', 'british math rock', 'math pop', 'math rock']                                             | https://api.spotify.com/v1/artists/05MlomiA9La0OiNIAGqECk | 05MlomiA9La0OiNIAGqECk | [{'height': 640, 'url': 'https://i.scdn.co/image/ab6761610000e5ebd120e8e0aecc07343080c998', 'width': 640}, {'height': 320, 'url': 'https://i.scdn.co/image/ab67616100005174d120e8e0aecc07343080c998', 'width': 320}, {'height': 160, 'url': 'https://i.scdn.co/image/ab6761610000f178d120e8e0aecc07343080c998', 'width': 160}] | Delta Sleep    |           45 | artist | spotify:artist:05MlomiA9La0OiNIAGqECk |\n",
      "+-----------------------------------------------------------------------+---------------------------------+--------------------------------------------------------------------------------------------------------------+-----------------------------------------------------------+------------------------+--------------------------------------------------------------------------------------------------------------------------------------------------------------------------------------------------------------------------------------------------------------------------------------------------------------------------------+----------------+--------------+--------+---------------------------------------+\n",
      "| {'spotify': 'https://open.spotify.com/artist/05tfXy5v0DpYvuy4Sot4Nu'} | {'href': None, 'total': 10438}  | ['breakcore', 'cybergrind']                                                                                  | https://api.spotify.com/v1/artists/05tfXy5v0DpYvuy4Sot4Nu | 05tfXy5v0DpYvuy4Sot4Nu | [{'height': 640, 'url': 'https://i.scdn.co/image/ab67616d0000b273c10580abb88b99b1fe673470', 'width': 640}, {'height': 300, 'url': 'https://i.scdn.co/image/ab67616d00001e02c10580abb88b99b1fe673470', 'width': 300}, {'height': 64, 'url': 'https://i.scdn.co/image/ab67616d00004851c10580abb88b99b1fe673470', 'width': 64}]   | Whourkr        |           12 | artist | spotify:artist:05tfXy5v0DpYvuy4Sot4Nu |\n",
      "+-----------------------------------------------------------------------+---------------------------------+--------------------------------------------------------------------------------------------------------------+-----------------------------------------------------------+------------------------+--------------------------------------------------------------------------------------------------------------------------------------------------------------------------------------------------------------------------------------------------------------------------------------------------------------------------------+----------------+--------------+--------+---------------------------------------+\n"
     ]
    }
   ],
   "source": [
    "print('Corpo della risposta all\\'endpoint /me/following?type=artist&limit=50:\\n(solo i primi 5 artisti)')\n",
    "print(tabulate(artists_items[:5], headers='keys', tablefmt='grid'))"
   ]
  },
  {
   "cell_type": "code",
   "execution_count": 81,
   "metadata": {},
   "outputs": [
    {
     "name": "stdout",
     "output_type": "stream",
     "text": [
      "Total: 250\n",
      "Artists: 50\n"
     ]
    }
   ],
   "source": [
    "# New add_artists() is appended to a new api call of get_artists()\n",
    "def add_artists(artists_items):\n",
    "\n",
    "    global artists_follow_headers\n",
    "\n",
    "    if not artists_items:\n",
    "        print('No artists... calling once get_artists()...')\n",
    "        return  \n",
    "    \n",
    "    next_id = artists_items[-1]['id']\n",
    "\n",
    "    add_artists_headers = artists_follow_headers.copy()\n",
    "    add_artists_headers['after'] = next_id\n",
    "    assert len(add_artists_headers) == len(artists_follow_headers) + 1\n",
    "    \n",
    "    data_append = get_artists(add_artists_headers)\n",
    "\n",
    "    if not data_append:\n",
    "        print('Call not successful... Check tokens (expired?)')\n",
    "\n",
    "    else:\n",
    "        df_append = fast_dataframe(data_append)\n",
    "\n",
    "        if not df_append.empty:\n",
    "            df = pd.concat([df, df_append], ignore_index=True)\n",
    "            return df\n",
    "\n",
    "print('Total:', total)\n",
    "L = len(artists_items)\n",
    "print('Artists:', L)"
   ]
  },
  {
   "cell_type": "markdown",
   "metadata": {},
   "source": [
    "### artist_data (dataframe)"
   ]
  },
  {
   "cell_type": "code",
   "execution_count": 57,
   "metadata": {},
   "outputs": [
    {
     "data": {
      "text/html": [
       "<div>\n",
       "<style scoped>\n",
       "    .dataframe tbody tr th:only-of-type {\n",
       "        vertical-align: middle;\n",
       "    }\n",
       "\n",
       "    .dataframe tbody tr th {\n",
       "        vertical-align: top;\n",
       "    }\n",
       "\n",
       "    .dataframe thead th {\n",
       "        text-align: right;\n",
       "    }\n",
       "</style>\n",
       "<table border=\"1\" class=\"dataframe\">\n",
       "  <thead>\n",
       "    <tr style=\"text-align: right;\">\n",
       "      <th></th>\n",
       "      <th>id</th>\n",
       "      <th>name</th>\n",
       "      <th>genres</th>\n",
       "      <th>count of genres</th>\n",
       "      <th>followers</th>\n",
       "      <th>popularity</th>\n",
       "    </tr>\n",
       "  </thead>\n",
       "  <tbody>\n",
       "    <tr>\n",
       "      <th>0</th>\n",
       "      <td>00Uv0804nrBM2RxUBTkyHj</td>\n",
       "      <td>Wobbler</td>\n",
       "      <td>[c64, italian progressive rock, neo-progressiv...</td>\n",
       "      <td>6</td>\n",
       "      <td>18473</td>\n",
       "      <td>17</td>\n",
       "    </tr>\n",
       "    <tr>\n",
       "      <th>1</th>\n",
       "      <td>02fDf7HEPtBZLtPzCyxSR2</td>\n",
       "      <td>Lanark Artefax</td>\n",
       "      <td>[deconstructed club, fluxwork, mandible, scott...</td>\n",
       "      <td>5</td>\n",
       "      <td>17324</td>\n",
       "      <td>20</td>\n",
       "    </tr>\n",
       "    <tr>\n",
       "      <th>2</th>\n",
       "      <td>058thnz6odaxoAN4n3cMBN</td>\n",
       "      <td>Verdena</td>\n",
       "      <td>[bergamo indie, italian alternative]</td>\n",
       "      <td>2</td>\n",
       "      <td>145584</td>\n",
       "      <td>42</td>\n",
       "    </tr>\n",
       "    <tr>\n",
       "      <th>3</th>\n",
       "      <td>05MlomiA9La0OiNIAGqECk</td>\n",
       "      <td>Delta Sleep</td>\n",
       "      <td>[brighton indie, british math rock, math pop, ...</td>\n",
       "      <td>4</td>\n",
       "      <td>92334</td>\n",
       "      <td>45</td>\n",
       "    </tr>\n",
       "    <tr>\n",
       "      <th>4</th>\n",
       "      <td>05tfXy5v0DpYvuy4Sot4Nu</td>\n",
       "      <td>Whourkr</td>\n",
       "      <td>[breakcore, cybergrind]</td>\n",
       "      <td>2</td>\n",
       "      <td>10438</td>\n",
       "      <td>12</td>\n",
       "    </tr>\n",
       "  </tbody>\n",
       "</table>\n",
       "</div>"
      ],
      "text/plain": [
       "                       id            name  \\\n",
       "0  00Uv0804nrBM2RxUBTkyHj         Wobbler   \n",
       "1  02fDf7HEPtBZLtPzCyxSR2  Lanark Artefax   \n",
       "2  058thnz6odaxoAN4n3cMBN         Verdena   \n",
       "3  05MlomiA9La0OiNIAGqECk     Delta Sleep   \n",
       "4  05tfXy5v0DpYvuy4Sot4Nu         Whourkr   \n",
       "\n",
       "                                              genres  count of genres  \\\n",
       "0  [c64, italian progressive rock, neo-progressiv...                6   \n",
       "1  [deconstructed club, fluxwork, mandible, scott...                5   \n",
       "2               [bergamo indie, italian alternative]                2   \n",
       "3  [brighton indie, british math rock, math pop, ...                4   \n",
       "4                            [breakcore, cybergrind]                2   \n",
       "\n",
       "   followers  popularity  \n",
       "0      18473          17  \n",
       "1      17324          20  \n",
       "2     145584          42  \n",
       "3      92334          45  \n",
       "4      10438          12  "
      ]
     },
     "execution_count": 57,
     "metadata": {},
     "output_type": "execute_result"
    }
   ],
   "source": [
    "# Inizializza df artist_data con i primi 50 trovati dalla chiamata get_artists()\n",
    "artist_df = pd.DataFrame(artists_items)\n",
    "\n",
    "# Colonna 'follower' (dict) è un dizionario con chiave 'total' che è il numero di followers\n",
    "artist_df['followers'] = artist_df['followers'].apply(lambda x: x['total'])\n",
    "\n",
    "# Colonna 'count of genres' è il numero di 'genres' di quell'artista\n",
    "artist_df['count of genres'] = artist_df['genres'].apply(lambda x: len(x))\n",
    "\n",
    "# Colonne rilevanti\n",
    "relevant_columns = ['id', 'name', 'genres', 'count of genres', 'followers', 'popularity']\n",
    "artist_data = artist_df[relevant_columns]\n",
    "\n",
    "\n",
    "artist_data.head()"
   ]
  },
  {
   "cell_type": "code",
   "execution_count": 55,
   "metadata": {},
   "outputs": [
    {
     "name": "stdout",
     "output_type": "stream",
     "text": [
      "50 artisti seguiti:\n"
     ]
    }
   ],
   "source": [
    "print(L, 'artisti seguiti:')"
   ]
  },
  {
   "cell_type": "markdown",
   "metadata": {},
   "source": [
    "# Querying"
   ]
  }
 ],
 "metadata": {
  "kernelspec": {
   "display_name": "Python 3",
   "language": "python",
   "name": "python3"
  },
  "language_info": {
   "codemirror_mode": {
    "name": "ipython",
    "version": 3
   },
   "file_extension": ".py",
   "mimetype": "text/x-python",
   "name": "python",
   "nbconvert_exporter": "python",
   "pygments_lexer": "ipython3",
   "version": "3.12.4"
  }
 },
 "nbformat": 4,
 "nbformat_minor": 2
}
