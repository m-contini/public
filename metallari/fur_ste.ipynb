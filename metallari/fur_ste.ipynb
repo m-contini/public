{
 "cells": [
  {
   "cell_type": "code",
   "execution_count": 6,
   "metadata": {},
   "outputs": [],
   "source": [
    "import os\n",
    "\n",
    "# All available metal is in this path\n",
    "basedir = os.getcwd()\n",
    "datadir = os.path.join(basedir, 'csv_output', 'all_infos')"
   ]
  },
  {
   "cell_type": "code",
   "execution_count": 7,
   "metadata": {},
   "outputs": [],
   "source": [
    "# Library to please 'Stefano'\n",
    "import pandas as estefano\n",
    "\n",
    "# Master csv file\n",
    "all_data = f'{datadir}\\\\0_all_data.csv'\n",
    "\n",
    "# DataFrame with estefano.read_csv() method\n",
    "data_df = estefano.read_csv(all_data, sep=';', usecols=['Name', 'Genre'])"
   ]
  },
  {
   "cell_type": "code",
   "execution_count": 14,
   "metadata": {},
   "outputs": [],
   "source": [
    "# Copy of the original df\n",
    "X = data_df.copy()\n",
    "\n",
    "# Genre estefano.series cleaning\n",
    "X['Genre'] = X['Genre'].apply(lambda x: x.replace('/', ' ').replace('-', ' '))\n",
    "X['Genre'] = X['Genre'].apply(lambda x: x.lower())"
   ]
  },
  {
   "cell_type": "code",
   "execution_count": 41,
   "metadata": {},
   "outputs": [],
   "source": [
    "# Keywords in 'Genre' column\n",
    "liked_by_ste = ['progressive', 'avant', 'garde', 'jazz']\n",
    "you_pussy_ste = ['death', 'thrash', 'power', 'black', 'folk', 'gothic', 'sludge', 'doom', 'stoner']\n",
    "\n",
    "# Func for filtering\n",
    "def i_like(series):\n",
    "    return series.str.contains('|'.join(liked_by_ste), case=False)\n",
    "\n",
    "def i_dont_like(series):\n",
    "    return ~series.str.contains('|'.join(you_pussy_ste), case=False)\n",
    "\n",
    "\n",
    "# Selection\n",
    "listen_df = X[ i_like(X['Genre']) & i_dont_like(X['Genre'])]\n",
    "listen_df = listen_df.reset_index(drop=True)"
   ]
  },
  {
   "cell_type": "code",
   "execution_count": 42,
   "metadata": {},
   "outputs": [
    {
     "data": {
      "text/html": [
       "<div>\n",
       "<style scoped>\n",
       "    .dataframe tbody tr th:only-of-type {\n",
       "        vertical-align: middle;\n",
       "    }\n",
       "\n",
       "    .dataframe tbody tr th {\n",
       "        vertical-align: top;\n",
       "    }\n",
       "\n",
       "    .dataframe thead th {\n",
       "        text-align: right;\n",
       "    }\n",
       "</style>\n",
       "<table border=\"1\" class=\"dataframe\">\n",
       "  <thead>\n",
       "    <tr style=\"text-align: right;\">\n",
       "      <th></th>\n",
       "      <th>Name</th>\n",
       "      <th>Genre</th>\n",
       "    </tr>\n",
       "  </thead>\n",
       "  <tbody>\n",
       "    <tr>\n",
       "      <th>0</th>\n",
       "      <td>A Blind Prophecy</td>\n",
       "      <td>melodic progressive metal</td>\n",
       "    </tr>\n",
       "    <tr>\n",
       "      <th>1</th>\n",
       "      <td>A Cosmic Trail</td>\n",
       "      <td>progressive metal</td>\n",
       "    </tr>\n",
       "    <tr>\n",
       "      <th>2</th>\n",
       "      <td>A Few Seasons Later</td>\n",
       "      <td>progressive metal rock</td>\n",
       "    </tr>\n",
       "    <tr>\n",
       "      <th>3</th>\n",
       "      <td>A Fool's Mockery</td>\n",
       "      <td>progressive rock metal</td>\n",
       "    </tr>\n",
       "    <tr>\n",
       "      <th>4</th>\n",
       "      <td>A II R</td>\n",
       "      <td>experimental progressive metal rock</td>\n",
       "    </tr>\n",
       "    <tr>\n",
       "      <th>...</th>\n",
       "      <td>...</td>\n",
       "      <td>...</td>\n",
       "    </tr>\n",
       "    <tr>\n",
       "      <th>5834</th>\n",
       "      <td>Zoom Abstraction</td>\n",
       "      <td>progressive metal</td>\n",
       "    </tr>\n",
       "    <tr>\n",
       "      <th>5835</th>\n",
       "      <td>Zuber</td>\n",
       "      <td>progressive metal</td>\n",
       "    </tr>\n",
       "    <tr>\n",
       "      <th>5836</th>\n",
       "      <td>Zuroth</td>\n",
       "      <td>progressive metal rock</td>\n",
       "    </tr>\n",
       "    <tr>\n",
       "      <th>5837</th>\n",
       "      <td>Zyglrox</td>\n",
       "      <td>progressive metal rock</td>\n",
       "    </tr>\n",
       "    <tr>\n",
       "      <th>5838</th>\n",
       "      <td>Zymotic</td>\n",
       "      <td>progressive heavy metal</td>\n",
       "    </tr>\n",
       "  </tbody>\n",
       "</table>\n",
       "<p>5839 rows × 2 columns</p>\n",
       "</div>"
      ],
      "text/plain": [
       "                     Name                                Genre\n",
       "0        A Blind Prophecy            melodic progressive metal\n",
       "1          A Cosmic Trail                    progressive metal\n",
       "2     A Few Seasons Later               progressive metal rock\n",
       "3        A Fool's Mockery               progressive rock metal\n",
       "4                  A II R  experimental progressive metal rock\n",
       "...                   ...                                  ...\n",
       "5834     Zoom Abstraction                    progressive metal\n",
       "5835                Zuber                    progressive metal\n",
       "5836               Zuroth               progressive metal rock\n",
       "5837              Zyglrox               progressive metal rock\n",
       "5838              Zymotic              progressive heavy metal\n",
       "\n",
       "[5839 rows x 2 columns]"
      ]
     },
     "execution_count": 42,
     "metadata": {},
     "output_type": "execute_result"
    }
   ],
   "source": [
    "# Homework\n",
    "\n",
    "listen_df"
   ]
  }
 ],
 "metadata": {
  "kernelspec": {
   "display_name": "Python 3",
   "language": "python",
   "name": "python3"
  },
  "language_info": {
   "codemirror_mode": {
    "name": "ipython",
    "version": 3
   },
   "file_extension": ".py",
   "mimetype": "text/x-python",
   "name": "python",
   "nbconvert_exporter": "python",
   "pygments_lexer": "ipython3",
   "version": "3.12.4"
  }
 },
 "nbformat": 4,
 "nbformat_minor": 2
}
